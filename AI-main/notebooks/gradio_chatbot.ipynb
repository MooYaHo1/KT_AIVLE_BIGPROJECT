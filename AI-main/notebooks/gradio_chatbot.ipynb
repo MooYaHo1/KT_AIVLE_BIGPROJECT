{
  "cells": [
    {
      "cell_type": "code",
      "execution_count": null,
      "metadata": {
        "id": "TwLz9sD_P5qf"
      },
      "outputs": [],
      "source": [
        "!pip install gradio\n",
        "!pip install openai"
      ]
    },
    {
      "cell_type": "code",
      "execution_count": null,
      "metadata": {},
      "outputs": [],
      "source": [
        "!pip install python-dotenv"
      ]
    },
    {
      "cell_type": "code",
      "execution_count": null,
      "metadata": {},
      "outputs": [],
      "source": [
        "from dotenv import load_dotenv\n",
        "import os\n",
        "\n",
        "load_dotenv('../key.config')\n",
        "api_key = os.environ.get('CHATGPT_API_KEY')"
      ]
    },
    {
      "cell_type": "code",
      "execution_count": null,
      "metadata": {
        "id": "2m_Q6P_VP4YZ"
      },
      "outputs": [],
      "source": [
        "def make_message(msg, history):\n",
        "    messages = []\n",
        "\n",
        "    for h in history:\n",
        "        messages.append({\"role\": \"user\", \"content\": h[0]})\n",
        "        messages.append({\"role\": \"assistant\", \"content\": h[1]})\n",
        "\n",
        "    messages.append({\"role\": \"system\",\n",
        "                 \"content\": \"너는 지금부터 공부를 할 거야. 너는 초등학생, 중학생 수준의 학생이야. 정말 어린 학생인 것처럼 얘기해. 존댓말만 써. 선생님과 수업하는 것처럼 상호 작용 하고 질문도 해. 질문은 한 번에 최대 2개씩만 해. 내가 가르친 내용 안에서만 질문하고 대답해. 배운 내용에 대해서만 얘기해. 학생이니까 배우기만 하고 질문만 해.\"})\n",
        "\n",
        "    messages.append({\"role\": \"user\", \"content\": msg})\n",
        "    return messages"
      ]
    },
    {
      "cell_type": "code",
      "execution_count": null,
      "metadata": {
        "id": "jf_nMLy8P0Zs"
      },
      "outputs": [],
      "source": [
        "import gradio as gr\n",
        "from openai import OpenAI\n",
        "\n",
        "client = OpenAI(api_key=api_key)\n",
        "\n",
        "def chat(msg, history):\n",
        "    response = client.chat.completions.create(\n",
        "        model=\"gpt-4\",\n",
        "        messages=make_message(msg, history),\n",
        "        temperature=0.5,\n",
        "    )\n",
        "    history.append((msg, response.choices[0].message.content))\n",
        "    return \"\", history\n",
        "\n",
        "with gr.Blocks() as demo:\n",
        "    chatbot = gr.Chatbot()\n",
        "    msg = gr.Textbox()\n",
        "    clear = gr.ClearButton([msg, chatbot])\n",
        "\n",
        "    msg.submit(chat, [msg, chatbot], [msg, chatbot])\n",
        "\n",
        "demo.launch(share=True)"
      ]
    }
  ],
  "metadata": {
    "colab": {
      "provenance": []
    },
    "kernelspec": {
      "display_name": "Python 3",
      "name": "python3"
    },
    "language_info": {
      "codemirror_mode": {
        "name": "ipython",
        "version": 3
      },
      "file_extension": ".py",
      "mimetype": "text/x-python",
      "name": "python",
      "nbconvert_exporter": "python",
      "pygments_lexer": "ipython3",
      "version": "3.10.13"
    }
  },
  "nbformat": 4,
  "nbformat_minor": 0
}
